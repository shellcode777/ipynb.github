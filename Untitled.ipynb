{
 "cells": [
  {
   "cell_type": "code",
   "execution_count": 28,
   "metadata": {},
   "outputs": [
    {
     "data": {
      "text/plain": [
       "True"
      ]
     },
     "execution_count": 28,
     "metadata": {},
     "output_type": "execute_result"
    }
   ],
   "source": [
    "import win32com.client as win32\n",
    "\n",
    "hwp = win32.gencache.EnsureDispatch(\"HWPFrame.HwpObject\")\n",
    "hwp.XHwpWindows.Item(0).Visible = True\n",
    "hwp.RegisterModule(\"FilePathCheckDLL\", \"FilePathCheckerModule\")"
   ]
  },
  {
   "cell_type": "code",
   "execution_count": 29,
   "metadata": {},
   "outputs": [
    {
     "data": {
      "text/plain": [
       "True"
      ]
     },
     "execution_count": 29,
     "metadata": {},
     "output_type": "execute_result"
    }
   ],
   "source": [
    " hwp.Open(\"c:\\\\IS.hwp\")"
   ]
  },
  {
   "cell_type": "code",
   "execution_count": 13,
   "metadata": {},
   "outputs": [],
   "source": [
    "hwp.Run(\"TableCellBlock\")"
   ]
  },
  {
   "cell_type": "code",
   "execution_count": 36,
   "metadata": {},
   "outputs": [
    {
     "name": "stdout",
     "output_type": "stream",
     "text": [
      "(True, 1, 1, 1, 1, 1, 4, 0, '(C2): [입력 중...]')\n",
      "C2\n"
     ]
    }
   ],
   "source": [
    "a = hwp.KeyIndicator()\n",
    "print(a)\n",
    "print(a[8][1:3])"
   ]
  },
  {
   "cell_type": "code",
   "execution_count": 132,
   "metadata": {},
   "outputs": [
    {
     "data": {
      "text/plain": [
       "False"
      ]
     },
     "execution_count": 132,
     "metadata": {},
     "output_type": "execute_result"
    }
   ],
   "source": [
    "hwp.HAction.Run(\"TableCellBlockRow\")"
   ]
  },
  {
   "cell_type": "code",
   "execution_count": 14,
   "metadata": {},
   "outputs": [
    {
     "data": {
      "text/plain": [
       "'head'"
      ]
     },
     "execution_count": 14,
     "metadata": {},
     "output_type": "execute_result"
    }
   ],
   "source": [
    "hwp.FindCtrl()"
   ]
  },
  {
   "cell_type": "code",
   "execution_count": 15,
   "metadata": {},
   "outputs": [],
   "source": [
    "ctrl = hwp.HeadCtrl\n",
    "nextctrl = ctrl.Next"
   ]
  },
  {
   "cell_type": "code",
   "execution_count": 176,
   "metadata": {},
   "outputs": [],
   "source": [
    "ctrl = hwp.HeadCtrl\n",
    "while ctrl != None:\n",
    "    try:\n",
    "        nextctrl = ctrl.Next\n",
    "    except com_error:  # 지우는 표 안에 누름틀이 한 개 이상 있는 경우 오류 발생\n",
    "        sleep(1)\n",
    "        nextctrl = ctrl.Next\n",
    "    if ctrl.CtrlID == \"tbl\":  # 표의 컨트롤아이디\n",
    "        hwp.Run(\"TableCellBlock\")\n",
    "    ctrl = nextctrl"
   ]
  },
  {
   "cell_type": "code",
   "execution_count": 253,
   "metadata": {},
   "outputs": [
    {
     "name": "stdout",
     "output_type": "stream",
     "text": [
      "(True, 1, 1, 1, 1, 2, 1, 0, '표')\n",
      "(True, 1, 1, 1, 1, 9, 1, 0, '표')\n"
     ]
    }
   ],
   "source": [
    "hwp.Run(\"MoveDocBegin\")\n",
    "hwp.Run(\"SelectCtrlFront\")\n",
    "while True:\n",
    "    curPos = hwp.KeyIndicator()\n",
    "    if curPos[-1] == \"표\":\n",
    "        #hwp.Run(\"Delete\")\n",
    "        print(curPos)\n",
    "    hwp.Run(\"SelectCtrlFront\")\n",
    "    nextPos = hwp.KeyIndicator()\n",
    "    if nextPos == curPos:\n",
    "        break"
   ]
  },
  {
   "cell_type": "code",
   "execution_count": 242,
   "metadata": {
    "scrolled": true
   },
   "outputs": [
    {
     "data": {
      "text/plain": [
       "'상  황  전  파  문\\r\\n<제    목><유해 IP주소, 유해 도메인주소 차단 요청>\\r\\n<정보유형><☑ 위협         □ 취약점          □ 침해사고>\\r\\n<탐지기관><□ NCSC       □ KLID           □ NIRS         ☑ SCSC>\\r\\n<사고일시><2020.12.04.(금) 07:02>\\r\\n<접수일시><2020.12.05.(토) 00:00>\\r\\n<전파일시><2020.12.05.(토) 00:10>\\r\\n<대    상><☑ 본청                            ☑ 본부·사업소             ><☑ 자치구                          ☑ 서울시립병원><☑ 공사·투자출연기관               ☑ 서울시메트로9호선         >\\r\\n□ 관련근거\\r\\n◯ 국가정보보안기본지침 제134조(공격정보 탐지․수집)\\r\\n◯ 서울특별시 정보통신 보안업무 처리규칙 제61조(기관간 정보공유 협력)\\r\\n\\r\\n□ 전파내용\\r\\n◯ 유해 IP주소 차단 요청\\r\\n<위협 유형><탐지명><유해 IP주소><출발지 서비스포트><대상지 IP주소><목적지 서비스포트>\\r\\n<악성코드><악성이력 확인><72.11.157.78 (네덜란드)><33762><115.84.166.122><80><89.248.167.141 (네덜란드)><56865><172.19.203.10><1999><185.224.138.29 (네덜란드)><분석 중 나온 IP 주소로 통신이력 없음>\\r\\n\\r\\n◯ 유해 도메인 주소 차단 요청\\r\\n<위협 유형><탐지명><유해 도메인 주소><특이사항>\\r\\n<악성코드><악성코드 유포지><kaist.krfa.ml><악성코드 유포지 도메인 주소>\\r\\n□ 조치사항 \\r\\n◯ 방화벽에서 유해 IP주소 차단\\r\\n◯ IPS에서 유해 도메인주소 차단\\r\\n◯ 침해사고 발생 기관은 서울사이버안전센터에 전화로 신고. 끝\\r\\n'"
      ]
     },
     "execution_count": 242,
     "metadata": {},
     "output_type": "execute_result"
    }
   ],
   "source": [
    "from openpyxl import load_workbook\n",
    "import olefile\n",
    "\n",
    "hwpOpen = olefile.OleFileIO(\"c:\\\\domain.hwp\")\n",
    "txtEncode = hwpOpen.openstream('PrvText').read()\n",
    "txtDecode = txtEncode.decode('UTF-16')\n",
    "\n",
    "txtDecode\n",
    "\n",
    "f = open(\"c:\\decode.txt\",'w',encoding = 'utf-8')\n",
    "f.write(txtDecode)\n",
    "\n",
    "f.close()\n",
    "\n",
    "txtDecode"
   ]
  },
  {
   "cell_type": "code",
   "execution_count": 6,
   "metadata": {},
   "outputs": [
    {
     "data": {
      "text/plain": [
       "str"
      ]
     },
     "execution_count": 6,
     "metadata": {},
     "output_type": "execute_result"
    }
   ],
   "source": [
    "type(txtDecode)"
   ]
  },
  {
   "cell_type": "code",
   "execution_count": 29,
   "metadata": {},
   "outputs": [
    {
     "name": "stdout",
     "output_type": "stream",
     "text": [
      "상  황  전  파  문\n",
      "\n",
      "제    목\n",
      "유해 IP주소 차단 요청\n",
      "정보유형\n",
      "☑ 위협         □ 취약점          □ 침해사고\n",
      "탐지기관\n",
      "□ NCSC       □ KLID           □ NIRS         ☑ SCSC\n",
      "사고일시\n",
      "2020.12.03.(목) 09:29\n",
      "접수일시\n",
      "2020.12.04.(금) 00:05\n",
      "전파일시\n",
      "2020.12.04.(금) 00:15\n",
      "대    상\n",
      "☑ 본청                            ☑ 본부·사업소             \n",
      "☑ 자치구                          ☑ 서울시립병원\n",
      "☑ 공사·투자출연기관               ☑ 서울시메트로9호선         \n",
      "\n",
      "□ 관련근거\n",
      "◯ 국가정보보안기본지침 제134조(공격정보 탐지․수집)\n",
      "◯ 서울특별시 정보통신 보안업무 처리규칙 제61조(기관간 정보공유 협력)\n",
      "\n",
      "□ 전파내용\n",
      "◯ 유해 IP주소 차단 요청\n",
      "\n",
      "위협\n",
      "유형\n",
      "탐지명\n",
      "유해 IP주소\n",
      "출발지\n",
      "서비스포트\n",
      "대상지 IP주소\n",
      "목적지\n",
      "서비스포트\n",
      "웹해킹\n",
      "SQL Injection\n",
      "51.91.35.169\n",
      "(영국)\n",
      "58350\n",
      "210.90.10.77\n",
      "80\n",
      "\n",
      "\n",
      "□ 조치사항 \n",
      "◯ 방화벽에서 유해 IP주소 차단\n",
      "◯ 침해사고 발생 기관은 서울사이버안전센터에 전화로 신고. 끝\n"
     ]
    }
   ],
   "source": [
    "import tkinter as tk\n",
    "from openpyxl import load_workbook\n",
    "from openpyxl import Workbook\n",
    "\n",
    "\n",
    "root = tk.Tk()\n",
    "paste = root.clipboard_get()\n",
    "\n",
    "print(paste)\n",
    "\n",
    "\n",
    "wb = load_workbook('tkinter.xlsx')\n",
    "ws = wb.active\n",
    "\n",
    "ws['A1'] = paste\n",
    "wb.save('tkinter.xlsx')\n"
   ]
  },
  {
   "cell_type": "code",
   "execution_count": 202,
   "metadata": {},
   "outputs": [],
   "source": [
    "hwp.Run(\"MoveDocBegin\")\n",
    "hwp.Run(\"SelectCtrlFront\")\n",
    "while True:\n",
    "    curPos = hwp.KeyIndicator()\n",
    "    if curPos[-1] == \"표\":\n",
    "        #hwp.Run(\"Delete\")\n",
    "        print(curPos)\n",
    "    hwp.Run(\"SelectCtrlFront\")\n",
    "    nextPos = hwp.KeyIndicator()\n",
    "    if nextPos == curPos:\n",
    "        break"
   ]
  },
  {
   "cell_type": "code",
   "execution_count": 33,
   "metadata": {},
   "outputs": [
    {
     "data": {
      "text/plain": [
       "True"
      ]
     },
     "execution_count": 33,
     "metadata": {},
     "output_type": "execute_result"
    }
   ],
   "source": [
    "import win32com.client as win32\n",
    "\n",
    "hwp = win32.gencache.EnsureDispatch(\"HWPFrame.HwpObject\")\n",
    "hwp.XHwpWindows.Item(0).Visible = True\n",
    "hwp.RegisterModule(\"FilePathCheckDLL\", \"FilePathCheckerModule\")\n",
    "hwp.Open(\"c:\\\\IS.hwp\")"
   ]
  },
  {
   "cell_type": "code",
   "execution_count": 16,
   "metadata": {},
   "outputs": [
    {
     "data": {
      "text/plain": [
       "True"
      ]
     },
     "execution_count": 16,
     "metadata": {},
     "output_type": "execute_result"
    }
   ],
   "source": [
    "hwp.MovePos(1)"
   ]
  },
  {
   "cell_type": "code",
   "execution_count": 17,
   "metadata": {},
   "outputs": [],
   "source": [
    "hwp.Run(\"MoveDocBegin\")"
   ]
  },
  {
   "cell_type": "code",
   "execution_count": 18,
   "metadata": {},
   "outputs": [],
   "source": [
    "hwp.Run(\"SelectCtrlFront\")"
   ]
  },
  {
   "cell_type": "code",
   "execution_count": 19,
   "metadata": {},
   "outputs": [
    {
     "name": "stdout",
     "output_type": "stream",
     "text": [
      "(True, 1, 1, 1, 1, 2, 1, 0, '표')\n"
     ]
    }
   ],
   "source": [
    "curPos = hwp.KeyIndicator()\n",
    "print(curPos)"
   ]
  },
  {
   "cell_type": "code",
   "execution_count": 20,
   "metadata": {},
   "outputs": [],
   "source": [
    "hwp.Run(\"ShapeObjTableSelCell\")"
   ]
  },
  {
   "cell_type": "code",
   "execution_count": 21,
   "metadata": {},
   "outputs": [],
   "source": [
    "hwp.Run(\"TableRightCell\")"
   ]
  },
  {
   "cell_type": "code",
   "execution_count": 22,
   "metadata": {},
   "outputs": [],
   "source": [
    "hwp.Run(\"TableCellBlockExtend\")"
   ]
  },
  {
   "cell_type": "code",
   "execution_count": 23,
   "metadata": {},
   "outputs": [],
   "source": [
    "hwp.Run(\"TableLowerCell\")"
   ]
  },
  {
   "cell_type": "code",
   "execution_count": 24,
   "metadata": {},
   "outputs": [],
   "source": [
    "hwp.Run(\"Copy\")"
   ]
  },
  {
   "cell_type": "code",
   "execution_count": 146,
   "metadata": {},
   "outputs": [
    {
     "name": "stdout",
     "output_type": "stream",
     "text": [
      "Collecting clipboard\n",
      "  Downloading clipboard-0.0.4.tar.gz (1.7 kB)\n",
      "Collecting pyperclip>=1.3\n",
      "  Downloading pyperclip-1.8.1.tar.gz (20 kB)\n",
      "Building wheels for collected packages: clipboard, pyperclip\n",
      "  Building wheel for clipboard (setup.py): started\n",
      "  Building wheel for clipboard (setup.py): finished with status 'done'\n",
      "  Created wheel for clipboard: filename=clipboard-0.0.4-py3-none-any.whl size=1854 sha256=156fdbf4bb6e733d953470c79ddbaa0e90d00d6403283700e49085ea5f72f676\n",
      "  Stored in directory: c:\\users\\user\\appdata\\local\\pip\\cache\\wheels\\de\\bc\\35\\fe31f0f559f65513fb90922017715133ed34d148f8eff157f4\n",
      "  Building wheel for pyperclip (setup.py): started\n",
      "  Building wheel for pyperclip (setup.py): finished with status 'done'\n",
      "  Created wheel for pyperclip: filename=pyperclip-1.8.1-py3-none-any.whl size=11124 sha256=e0be7389e273e594ee3275ce0f80b93ca6c785b45415a5bfc8d726cd106ad707\n",
      "  Stored in directory: c:\\users\\user\\appdata\\local\\pip\\cache\\wheels\\67\\0c\\ba\\1468f38115898442e13f99a19a8dcf1e0ca73488053ef7b388\n",
      "Successfully built clipboard pyperclip\n",
      "Installing collected packages: pyperclip, clipboard\n",
      "Successfully installed clipboard-0.0.4 pyperclip-1.8.1\n",
      "Note: you may need to restart the kernel to use updated packages.\n"
     ]
    }
   ],
   "source": [
    "pip install clipboard"
   ]
  },
  {
   "cell_type": "code",
   "execution_count": 102,
   "metadata": {},
   "outputs": [
    {
     "name": "stdout",
     "output_type": "stream",
     "text": [
      "(True, 1, 1, 1, 1, 9, 1, 0, '표')\n"
     ]
    }
   ],
   "source": [
    "hwp.Run(\"SelectCtrlFront\")\n",
    "nextPos = hwp.KeyIndicator()\n",
    "print(nextPos)"
   ]
  },
  {
   "cell_type": "code",
   "execution_count": 26,
   "metadata": {},
   "outputs": [
    {
     "data": {
      "text/plain": [
       "'위협유형'"
      ]
     },
     "execution_count": 26,
     "metadata": {},
     "output_type": "execute_result"
    }
   ],
   "source": [
    "import clipboard\n",
    "txt = clipboard.paste()\n",
    "txt = txt.replace('\\r', '').replace('\\n', '').replace('(', ' ').replace(')', ' ')\n",
    "txt"
   ]
  },
  {
   "cell_type": "code",
   "execution_count": 29,
   "metadata": {},
   "outputs": [
    {
     "data": {
      "text/plain": [
       "'72.11.157.78\\r\\n(네덜란드)\\r\\n89.248.167.141\\r\\n(네덜란드)\\r\\n185.224.138.29\\r\\n(네덜란드)'"
      ]
     },
     "execution_count": 29,
     "metadata": {},
     "output_type": "execute_result"
    }
   ],
   "source": [
    "txt = clipboard.paste()\n",
    "txt = txt[2:-2]\n",
    "txt"
   ]
  },
  {
   "cell_type": "code",
   "execution_count": 137,
   "metadata": {},
   "outputs": [],
   "source": [
    "excel = win32.gencache.EnsureDispatch(\"Excel.Application\")"
   ]
  },
  {
   "cell_type": "code",
   "execution_count": 138,
   "metadata": {},
   "outputs": [],
   "source": [
    "excel.Visible = True"
   ]
  },
  {
   "cell_type": "code",
   "execution_count": 139,
   "metadata": {},
   "outputs": [],
   "source": [
    "wb = excel.Workbooks.Add()"
   ]
  },
  {
   "cell_type": "code",
   "execution_count": 140,
   "metadata": {},
   "outputs": [],
   "source": [
    "ws = wb.Worksheets(1)"
   ]
  },
  {
   "cell_type": "code",
   "execution_count": 141,
   "metadata": {},
   "outputs": [],
   "source": [
    "excel.ActiveSheet.Paste()"
   ]
  },
  {
   "cell_type": "code",
   "execution_count": 142,
   "metadata": {},
   "outputs": [
    {
     "data": {
      "text/plain": [
       "True"
      ]
     },
     "execution_count": 142,
     "metadata": {},
     "output_type": "execute_result"
    }
   ],
   "source": [
    "excel.Selection.Copy()"
   ]
  },
  {
   "cell_type": "code",
   "execution_count": 106,
   "metadata": {},
   "outputs": [],
   "source": [
    "import pandas as pd"
   ]
  },
  {
   "cell_type": "code",
   "execution_count": 101,
   "metadata": {},
   "outputs": [
    {
     "data": {
      "text/html": [
       "<div>\n",
       "<style scoped>\n",
       "    .dataframe tbody tr th:only-of-type {\n",
       "        vertical-align: middle;\n",
       "    }\n",
       "\n",
       "    .dataframe tbody tr th {\n",
       "        vertical-align: top;\n",
       "    }\n",
       "\n",
       "    .dataframe thead th {\n",
       "        text-align: right;\n",
       "    }\n",
       "</style>\n",
       "<table border=\"1\" class=\"dataframe\">\n",
       "  <thead>\n",
       "    <tr style=\"text-align: right;\">\n",
       "      <th></th>\n",
       "      <th>위협</th>\n",
       "      <th>탐지명</th>\n",
       "      <th>유해</th>\n",
       "      <th>IP주소</th>\n",
       "      <th>출발지</th>\n",
       "      <th>대상지</th>\n",
       "      <th>IP주소.1</th>\n",
       "      <th>목적지</th>\n",
       "    </tr>\n",
       "  </thead>\n",
       "  <tbody>\n",
       "    <tr>\n",
       "      <th>0</th>\n",
       "      <td>유형</td>\n",
       "      <td>서비스포트</td>\n",
       "      <td>서비스포트</td>\n",
       "      <td>None</td>\n",
       "      <td>None</td>\n",
       "      <td>None</td>\n",
       "      <td>None</td>\n",
       "      <td>None</td>\n",
       "    </tr>\n",
       "    <tr>\n",
       "      <th>1</th>\n",
       "      <td>악성코드</td>\n",
       "      <td>악성이력</td>\n",
       "      <td>확인</td>\n",
       "      <td>72.11.157.78</td>\n",
       "      <td>33762</td>\n",
       "      <td>115.84.166.122</td>\n",
       "      <td>80</td>\n",
       "      <td>None</td>\n",
       "    </tr>\n",
       "    <tr>\n",
       "      <th>2</th>\n",
       "      <td>(네덜란드)</td>\n",
       "      <td>None</td>\n",
       "      <td>None</td>\n",
       "      <td>None</td>\n",
       "      <td>None</td>\n",
       "      <td>None</td>\n",
       "      <td>None</td>\n",
       "      <td>None</td>\n",
       "    </tr>\n",
       "    <tr>\n",
       "      <th>3</th>\n",
       "      <td>89.248.167.141</td>\n",
       "      <td>56865</td>\n",
       "      <td>172.19.203.10</td>\n",
       "      <td>1999</td>\n",
       "      <td>None</td>\n",
       "      <td>None</td>\n",
       "      <td>None</td>\n",
       "      <td>None</td>\n",
       "    </tr>\n",
       "    <tr>\n",
       "      <th>4</th>\n",
       "      <td>(네덜란드)</td>\n",
       "      <td>None</td>\n",
       "      <td>None</td>\n",
       "      <td>None</td>\n",
       "      <td>None</td>\n",
       "      <td>None</td>\n",
       "      <td>None</td>\n",
       "      <td>None</td>\n",
       "    </tr>\n",
       "    <tr>\n",
       "      <th>5</th>\n",
       "      <td>185.224.138.29</td>\n",
       "      <td>분석</td>\n",
       "      <td>중</td>\n",
       "      <td>나온</td>\n",
       "      <td>IP</td>\n",
       "      <td>주소로</td>\n",
       "      <td>통신이력</td>\n",
       "      <td>없음</td>\n",
       "    </tr>\n",
       "    <tr>\n",
       "      <th>6</th>\n",
       "      <td>(네덜란드)</td>\n",
       "      <td>None</td>\n",
       "      <td>None</td>\n",
       "      <td>None</td>\n",
       "      <td>None</td>\n",
       "      <td>None</td>\n",
       "      <td>None</td>\n",
       "      <td>None</td>\n",
       "    </tr>\n",
       "  </tbody>\n",
       "</table>\n",
       "</div>"
      ],
      "text/plain": [
       "               위협    탐지명             유해          IP주소    출발지             대상지  \\\n",
       "0              유형  서비스포트          서비스포트          None   None            None   \n",
       "1            악성코드   악성이력             확인  72.11.157.78  33762  115.84.166.122   \n",
       "2          (네덜란드)   None           None          None   None            None   \n",
       "3  89.248.167.141  56865  172.19.203.10          1999   None            None   \n",
       "4          (네덜란드)   None           None          None   None            None   \n",
       "5  185.224.138.29     분석              중            나온     IP             주소로   \n",
       "6          (네덜란드)   None           None          None   None            None   \n",
       "\n",
       "  IP주소.1   목적지  \n",
       "0   None  None  \n",
       "1     80  None  \n",
       "2   None  None  \n",
       "3   None  None  \n",
       "4   None  None  \n",
       "5   통신이력    없음  \n",
       "6   None  None  "
      ]
     },
     "execution_count": 101,
     "metadata": {},
     "output_type": "execute_result"
    }
   ],
   "source": [
    "df"
   ]
  },
  {
   "cell_type": "code",
   "execution_count": 57,
   "metadata": {},
   "outputs": [
    {
     "name": "stdout",
     "output_type": "stream",
     "text": [
      "None\n",
      "<win32com.gen_py.HwpObject 1.0 Type Library.IDHwpParameterSet instance at 0x2467621070016>\n"
     ]
    }
   ],
   "source": [
    "Set = hwp.CreateSet(\"CellCtrlData\")\n",
    "a = Set.Item(\"CtrlData\")\n",
    "print(a)\n",
    "print(Set)"
   ]
  },
  {
   "cell_type": "code",
   "execution_count": 39,
   "metadata": {},
   "outputs": [
    {
     "ename": "SyntaxError",
     "evalue": "invalid syntax (<ipython-input-39-e63fce1d20f4>, line 41)",
     "output_type": "error",
     "traceback": [
      "\u001b[1;36m  File \u001b[1;32m\"<ipython-input-39-e63fce1d20f4>\"\u001b[1;36m, line \u001b[1;32m41\u001b[0m\n\u001b[1;33m    while hwp.KeyIndicator() ==\u001b[0m\n\u001b[1;37m                                ^\u001b[0m\n\u001b[1;31mSyntaxError\u001b[0m\u001b[1;31m:\u001b[0m invalid syntax\n"
     ]
    }
   ],
   "source": [
    "import win32com.client as win32\n",
    "import clipboard\n",
    "# txt = clipboard.paste()\n",
    "# txt = txt.replace('\\r', '').replace('\\n', '').replace('(', ' ').replace(')', ' ')\n",
    "# txt = txt[2:-2]\n",
    "\n",
    "typeBuf = []\n",
    "addrBuf = []\n",
    "urlBuf = []\n",
    "\n",
    "hwp = win32.gencache.EnsureDispatch(\"HWPFrame.HwpObject\")\n",
    "hwp.XHwpWindows.Item(0).Visible = True\n",
    "hwp.RegisterModule(\"FilePathCheckDLL\", \"FilePathCheckerModule\")\n",
    "\n",
    "hwp.Open(\"c:\\\\IS.hwp\")\n",
    "\n",
    "ctrlCode = hwp.HeadCtrl\n",
    "\n",
    "while ctrlCode != None:\n",
    "    if ctrlCode.CtrlID == \"tbl\":\n",
    "        hwp.SetPosBySet(ctrlCode.GetAnchorPos(0))\n",
    "        hwp.FindCtrl()\n",
    "        hwp.Run(\"ShapeObjTableSelCell\")\n",
    "        hwp.Run(\"Copy\")\n",
    "        colText = clipboard.paste()\n",
    "        colText = colText.replace('\\r', '').replace('\\n', '').replace('(', ' ').replace(')', ' ')\n",
    "        \n",
    "        if colText == \"위협유형\":\n",
    "            hwp.Run(\"TableRightCell\")\n",
    "            hwp.Run(\"TableRightCell\")\n",
    "            hwp.Run(\"Copy\")\n",
    "            addrColText = clipboard.paste()\n",
    "            addrColText = addrColText.replace('\\r', '').replace('\\n', '')\n",
    "            \n",
    "            if addrColText == \"유해 IP주소\":\n",
    "                hwp.Run(\"TableLowerCell\")\n",
    "                hwp.Run(\"TableCellBlockExtend\")\n",
    "                posInfo = hwp.KeyIndicator()\n",
    "                curPos = posInfo[8][1:3]\n",
    "                BeforePos = ''\n",
    "                \n",
    "                while curPos == BeforePos:\n",
    "                    \n",
    "                \n",
    "        else:\n",
    "            ctrlCode = ctrlCode.Next\n",
    "            \n",
    "    else:\n",
    "        pass\n",
    "    \n",
    "    ctrlCode = ctrlCode.Next\n",
    "            \n",
    "        "
   ]
  },
  {
   "cell_type": "code",
   "execution_count": 37,
   "metadata": {},
   "outputs": [
    {
     "data": {
      "text/plain": [
       "''"
      ]
     },
     "execution_count": 37,
     "metadata": {},
     "output_type": "execute_result"
    }
   ],
   "source": []
  }
 ],
 "metadata": {
  "kernelspec": {
   "display_name": "Python 3",
   "language": "python",
   "name": "python3"
  },
  "language_info": {
   "codemirror_mode": {
    "name": "ipython",
    "version": 3
   },
   "file_extension": ".py",
   "mimetype": "text/x-python",
   "name": "python",
   "nbconvert_exporter": "python",
   "pygments_lexer": "ipython3",
   "version": "3.8.3"
  }
 },
 "nbformat": 4,
 "nbformat_minor": 4
}
